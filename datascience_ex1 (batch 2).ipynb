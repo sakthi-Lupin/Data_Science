{
 "cells": [
  {
   "cell_type": "code",
   "execution_count": 182,
   "id": "90e4ed41-15e5-40e4-8975-97934e4947e8",
   "metadata": {},
   "outputs": [],
   "source": [
    "import pandas as pd"
   ]
  },
  {
   "cell_type": "code",
   "execution_count": 183,
   "id": "168343b7-de0e-482a-a4ff-86748852f2dd",
   "metadata": {},
   "outputs": [],
   "source": [
    "df2=pd.DataFrame({'Rollno':[1,2,3,4,5],'Age':[23,25,22,24,23],'Name':['Alice','Bob','Charlie','David','Eva'],'Gender':['f','m','m','m','F'],'Score':[85,78,92,70,88]})"
   ]
  },
  {
   "cell_type": "code",
   "execution_count": 184,
   "id": "19ea8f04-e648-4674-adb6-21e66c05ad37",
   "metadata": {},
   "outputs": [],
   "source": [
    "df1=df2.head(3)"
   ]
  },
  {
   "cell_type": "code",
   "execution_count": 185,
   "id": "4bcce239-01d0-4b33-a14e-715512c47a17",
   "metadata": {},
   "outputs": [
    {
     "data": {
      "text/html": [
       "<div>\n",
       "<style scoped>\n",
       "    .dataframe tbody tr th:only-of-type {\n",
       "        vertical-align: middle;\n",
       "    }\n",
       "\n",
       "    .dataframe tbody tr th {\n",
       "        vertical-align: top;\n",
       "    }\n",
       "\n",
       "    .dataframe thead th {\n",
       "        text-align: right;\n",
       "    }\n",
       "</style>\n",
       "<table border=\"1\" class=\"dataframe\">\n",
       "  <thead>\n",
       "    <tr style=\"text-align: right;\">\n",
       "      <th></th>\n",
       "      <th>Rollno</th>\n",
       "      <th>Age</th>\n",
       "      <th>Name</th>\n",
       "      <th>Gender</th>\n",
       "      <th>Score</th>\n",
       "    </tr>\n",
       "  </thead>\n",
       "  <tbody>\n",
       "    <tr>\n",
       "      <th>0</th>\n",
       "      <td>1</td>\n",
       "      <td>23</td>\n",
       "      <td>Alice</td>\n",
       "      <td>f</td>\n",
       "      <td>85</td>\n",
       "    </tr>\n",
       "    <tr>\n",
       "      <th>1</th>\n",
       "      <td>2</td>\n",
       "      <td>25</td>\n",
       "      <td>Bob</td>\n",
       "      <td>m</td>\n",
       "      <td>78</td>\n",
       "    </tr>\n",
       "    <tr>\n",
       "      <th>2</th>\n",
       "      <td>3</td>\n",
       "      <td>22</td>\n",
       "      <td>Charlie</td>\n",
       "      <td>m</td>\n",
       "      <td>92</td>\n",
       "    </tr>\n",
       "  </tbody>\n",
       "</table>\n",
       "</div>"
      ],
      "text/plain": [
       "   Rollno  Age     Name Gender  Score\n",
       "0       1   23    Alice      f     85\n",
       "1       2   25      Bob      m     78\n",
       "2       3   22  Charlie      m     92"
      ]
     },
     "execution_count": 185,
     "metadata": {},
     "output_type": "execute_result"
    }
   ],
   "source": [
    "df1"
   ]
  },
  {
   "cell_type": "code",
   "execution_count": 186,
   "id": "653f9f34-5fd9-4bd1-8066-774fc46b428c",
   "metadata": {},
   "outputs": [],
   "source": [
    "df3=df2[df2['Gender']=='f']"
   ]
  },
  {
   "cell_type": "code",
   "execution_count": 187,
   "id": "ebe8e0ac-6db6-4f71-9a95-64d3731f60ef",
   "metadata": {},
   "outputs": [
    {
     "data": {
      "text/html": [
       "<div>\n",
       "<style scoped>\n",
       "    .dataframe tbody tr th:only-of-type {\n",
       "        vertical-align: middle;\n",
       "    }\n",
       "\n",
       "    .dataframe tbody tr th {\n",
       "        vertical-align: top;\n",
       "    }\n",
       "\n",
       "    .dataframe thead th {\n",
       "        text-align: right;\n",
       "    }\n",
       "</style>\n",
       "<table border=\"1\" class=\"dataframe\">\n",
       "  <thead>\n",
       "    <tr style=\"text-align: right;\">\n",
       "      <th></th>\n",
       "      <th>Rollno</th>\n",
       "      <th>Age</th>\n",
       "      <th>Name</th>\n",
       "      <th>Gender</th>\n",
       "      <th>Score</th>\n",
       "    </tr>\n",
       "  </thead>\n",
       "  <tbody>\n",
       "    <tr>\n",
       "      <th>0</th>\n",
       "      <td>1</td>\n",
       "      <td>23</td>\n",
       "      <td>Alice</td>\n",
       "      <td>f</td>\n",
       "      <td>85</td>\n",
       "    </tr>\n",
       "  </tbody>\n",
       "</table>\n",
       "</div>"
      ],
      "text/plain": [
       "   Rollno  Age   Name Gender  Score\n",
       "0       1   23  Alice      f     85"
      ]
     },
     "execution_count": 187,
     "metadata": {},
     "output_type": "execute_result"
    }
   ],
   "source": [
    "df3"
   ]
  },
  {
   "cell_type": "code",
   "execution_count": 188,
   "id": "a09d7d08-dd6f-4fa1-a082-83b73e86266b",
   "metadata": {},
   "outputs": [],
   "source": [
    "df2['Score 1']=df2['Score']"
   ]
  },
  {
   "cell_type": "code",
   "execution_count": 189,
   "id": "9def4175-0b3a-4241-8f78-5752dd3354fe",
   "metadata": {},
   "outputs": [],
   "source": [
    "df2['Score 2']=df2['Score']"
   ]
  },
  {
   "cell_type": "code",
   "execution_count": 190,
   "id": "7fb13182-8876-40d3-9ebe-b0d3f173a2f5",
   "metadata": {},
   "outputs": [
    {
     "data": {
      "text/html": [
       "<div>\n",
       "<style scoped>\n",
       "    .dataframe tbody tr th:only-of-type {\n",
       "        vertical-align: middle;\n",
       "    }\n",
       "\n",
       "    .dataframe tbody tr th {\n",
       "        vertical-align: top;\n",
       "    }\n",
       "\n",
       "    .dataframe thead th {\n",
       "        text-align: right;\n",
       "    }\n",
       "</style>\n",
       "<table border=\"1\" class=\"dataframe\">\n",
       "  <thead>\n",
       "    <tr style=\"text-align: right;\">\n",
       "      <th></th>\n",
       "      <th>Rollno</th>\n",
       "      <th>Age</th>\n",
       "      <th>Name</th>\n",
       "      <th>Gender</th>\n",
       "      <th>Score</th>\n",
       "      <th>Score 1</th>\n",
       "      <th>Score 2</th>\n",
       "    </tr>\n",
       "  </thead>\n",
       "  <tbody>\n",
       "    <tr>\n",
       "      <th>0</th>\n",
       "      <td>1</td>\n",
       "      <td>23</td>\n",
       "      <td>Alice</td>\n",
       "      <td>f</td>\n",
       "      <td>85</td>\n",
       "      <td>85</td>\n",
       "      <td>85</td>\n",
       "    </tr>\n",
       "    <tr>\n",
       "      <th>1</th>\n",
       "      <td>2</td>\n",
       "      <td>25</td>\n",
       "      <td>Bob</td>\n",
       "      <td>m</td>\n",
       "      <td>78</td>\n",
       "      <td>78</td>\n",
       "      <td>78</td>\n",
       "    </tr>\n",
       "    <tr>\n",
       "      <th>2</th>\n",
       "      <td>3</td>\n",
       "      <td>22</td>\n",
       "      <td>Charlie</td>\n",
       "      <td>m</td>\n",
       "      <td>92</td>\n",
       "      <td>92</td>\n",
       "      <td>92</td>\n",
       "    </tr>\n",
       "    <tr>\n",
       "      <th>3</th>\n",
       "      <td>4</td>\n",
       "      <td>24</td>\n",
       "      <td>David</td>\n",
       "      <td>m</td>\n",
       "      <td>70</td>\n",
       "      <td>70</td>\n",
       "      <td>70</td>\n",
       "    </tr>\n",
       "    <tr>\n",
       "      <th>4</th>\n",
       "      <td>5</td>\n",
       "      <td>23</td>\n",
       "      <td>Eva</td>\n",
       "      <td>F</td>\n",
       "      <td>88</td>\n",
       "      <td>88</td>\n",
       "      <td>88</td>\n",
       "    </tr>\n",
       "  </tbody>\n",
       "</table>\n",
       "</div>"
      ],
      "text/plain": [
       "   Rollno  Age     Name Gender  Score  Score 1  Score 2\n",
       "0       1   23    Alice      f     85       85       85\n",
       "1       2   25      Bob      m     78       78       78\n",
       "2       3   22  Charlie      m     92       92       92\n",
       "3       4   24    David      m     70       70       70\n",
       "4       5   23      Eva      F     88       88       88"
      ]
     },
     "execution_count": 190,
     "metadata": {},
     "output_type": "execute_result"
    }
   ],
   "source": [
    "df2"
   ]
  },
  {
   "cell_type": "code",
   "execution_count": 191,
   "id": "f09930cd-7127-4433-ae27-7d6143af04da",
   "metadata": {},
   "outputs": [],
   "source": [
    "df2['Age 1']=df2['Age']"
   ]
  },
  {
   "cell_type": "code",
   "execution_count": 192,
   "id": "4ab22a3b-9498-4aca-8245-a7f6ae076560",
   "metadata": {},
   "outputs": [
    {
     "data": {
      "text/html": [
       "<div>\n",
       "<style scoped>\n",
       "    .dataframe tbody tr th:only-of-type {\n",
       "        vertical-align: middle;\n",
       "    }\n",
       "\n",
       "    .dataframe tbody tr th {\n",
       "        vertical-align: top;\n",
       "    }\n",
       "\n",
       "    .dataframe thead th {\n",
       "        text-align: right;\n",
       "    }\n",
       "</style>\n",
       "<table border=\"1\" class=\"dataframe\">\n",
       "  <thead>\n",
       "    <tr style=\"text-align: right;\">\n",
       "      <th></th>\n",
       "      <th>Rollno</th>\n",
       "      <th>Age</th>\n",
       "      <th>Name</th>\n",
       "      <th>Gender</th>\n",
       "      <th>Score</th>\n",
       "      <th>Score 1</th>\n",
       "      <th>Score 2</th>\n",
       "      <th>Age 1</th>\n",
       "    </tr>\n",
       "  </thead>\n",
       "  <tbody>\n",
       "    <tr>\n",
       "      <th>0</th>\n",
       "      <td>1</td>\n",
       "      <td>23</td>\n",
       "      <td>Alice</td>\n",
       "      <td>f</td>\n",
       "      <td>85</td>\n",
       "      <td>85</td>\n",
       "      <td>85</td>\n",
       "      <td>23</td>\n",
       "    </tr>\n",
       "    <tr>\n",
       "      <th>1</th>\n",
       "      <td>2</td>\n",
       "      <td>25</td>\n",
       "      <td>Bob</td>\n",
       "      <td>m</td>\n",
       "      <td>78</td>\n",
       "      <td>78</td>\n",
       "      <td>78</td>\n",
       "      <td>25</td>\n",
       "    </tr>\n",
       "    <tr>\n",
       "      <th>2</th>\n",
       "      <td>3</td>\n",
       "      <td>22</td>\n",
       "      <td>Charlie</td>\n",
       "      <td>m</td>\n",
       "      <td>92</td>\n",
       "      <td>92</td>\n",
       "      <td>92</td>\n",
       "      <td>22</td>\n",
       "    </tr>\n",
       "    <tr>\n",
       "      <th>3</th>\n",
       "      <td>4</td>\n",
       "      <td>24</td>\n",
       "      <td>David</td>\n",
       "      <td>m</td>\n",
       "      <td>70</td>\n",
       "      <td>70</td>\n",
       "      <td>70</td>\n",
       "      <td>24</td>\n",
       "    </tr>\n",
       "    <tr>\n",
       "      <th>4</th>\n",
       "      <td>5</td>\n",
       "      <td>23</td>\n",
       "      <td>Eva</td>\n",
       "      <td>F</td>\n",
       "      <td>88</td>\n",
       "      <td>88</td>\n",
       "      <td>88</td>\n",
       "      <td>23</td>\n",
       "    </tr>\n",
       "  </tbody>\n",
       "</table>\n",
       "</div>"
      ],
      "text/plain": [
       "   Rollno  Age     Name Gender  Score  Score 1  Score 2  Age 1\n",
       "0       1   23    Alice      f     85       85       85     23\n",
       "1       2   25      Bob      m     78       78       78     25\n",
       "2       3   22  Charlie      m     92       92       92     22\n",
       "3       4   24    David      m     70       70       70     24\n",
       "4       5   23      Eva      F     88       88       88     23"
      ]
     },
     "execution_count": 192,
     "metadata": {},
     "output_type": "execute_result"
    }
   ],
   "source": [
    "df2"
   ]
  },
  {
   "cell_type": "code",
   "execution_count": 193,
   "id": "70599b5f-3b6d-4f73-b62c-c97ef23e4908",
   "metadata": {},
   "outputs": [
    {
     "data": {
      "text/html": [
       "<div>\n",
       "<style scoped>\n",
       "    .dataframe tbody tr th:only-of-type {\n",
       "        vertical-align: middle;\n",
       "    }\n",
       "\n",
       "    .dataframe tbody tr th {\n",
       "        vertical-align: top;\n",
       "    }\n",
       "\n",
       "    .dataframe thead th {\n",
       "        text-align: right;\n",
       "    }\n",
       "</style>\n",
       "<table border=\"1\" class=\"dataframe\">\n",
       "  <thead>\n",
       "    <tr style=\"text-align: right;\">\n",
       "      <th></th>\n",
       "      <th>Rollno</th>\n",
       "      <th>Age</th>\n",
       "      <th>Name</th>\n",
       "      <th>Gender</th>\n",
       "      <th>Score</th>\n",
       "      <th>Score 1</th>\n",
       "      <th>Score 2</th>\n",
       "    </tr>\n",
       "  </thead>\n",
       "  <tbody>\n",
       "    <tr>\n",
       "      <th>0</th>\n",
       "      <td>1</td>\n",
       "      <td>23</td>\n",
       "      <td>Alice</td>\n",
       "      <td>f</td>\n",
       "      <td>85</td>\n",
       "      <td>85</td>\n",
       "      <td>85</td>\n",
       "    </tr>\n",
       "    <tr>\n",
       "      <th>1</th>\n",
       "      <td>2</td>\n",
       "      <td>25</td>\n",
       "      <td>Bob</td>\n",
       "      <td>m</td>\n",
       "      <td>78</td>\n",
       "      <td>78</td>\n",
       "      <td>78</td>\n",
       "    </tr>\n",
       "    <tr>\n",
       "      <th>2</th>\n",
       "      <td>3</td>\n",
       "      <td>22</td>\n",
       "      <td>Charlie</td>\n",
       "      <td>m</td>\n",
       "      <td>92</td>\n",
       "      <td>92</td>\n",
       "      <td>92</td>\n",
       "    </tr>\n",
       "    <tr>\n",
       "      <th>3</th>\n",
       "      <td>4</td>\n",
       "      <td>24</td>\n",
       "      <td>David</td>\n",
       "      <td>m</td>\n",
       "      <td>70</td>\n",
       "      <td>70</td>\n",
       "      <td>70</td>\n",
       "    </tr>\n",
       "    <tr>\n",
       "      <th>4</th>\n",
       "      <td>5</td>\n",
       "      <td>23</td>\n",
       "      <td>Eva</td>\n",
       "      <td>F</td>\n",
       "      <td>88</td>\n",
       "      <td>88</td>\n",
       "      <td>88</td>\n",
       "    </tr>\n",
       "  </tbody>\n",
       "</table>\n",
       "</div>"
      ],
      "text/plain": [
       "   Rollno  Age     Name Gender  Score  Score 1  Score 2\n",
       "0       1   23    Alice      f     85       85       85\n",
       "1       2   25      Bob      m     78       78       78\n",
       "2       3   22  Charlie      m     92       92       92\n",
       "3       4   24    David      m     70       70       70\n",
       "4       5   23      Eva      F     88       88       88"
      ]
     },
     "execution_count": 193,
     "metadata": {},
     "output_type": "execute_result"
    }
   ],
   "source": [
    "df2.drop('Age 1',axis=1)"
   ]
  },
  {
   "cell_type": "code",
   "execution_count": 194,
   "id": "ed949dcd-0f18-433e-9512-4d69ac850647",
   "metadata": {},
   "outputs": [
    {
     "ename": "TypeError",
     "evalue": "DataFrame.drop() takes from 1 to 2 positional arguments but 3 positional arguments (and 1 keyword-only argument) were given",
     "output_type": "error",
     "traceback": [
      "\u001b[1;31m---------------------------------------------------------------------------\u001b[0m",
      "\u001b[1;31mTypeError\u001b[0m                                 Traceback (most recent call last)",
      "Cell \u001b[1;32mIn[194], line 1\u001b[0m\n\u001b[1;32m----> 1\u001b[0m df2\u001b[38;5;241m.\u001b[39mdrop(\u001b[38;5;124m'\u001b[39m\u001b[38;5;124mScore 1\u001b[39m\u001b[38;5;124m'\u001b[39m,\u001b[38;5;124m'\u001b[39m\u001b[38;5;124mScore 2\u001b[39m\u001b[38;5;124m'\u001b[39m,axis\u001b[38;5;241m=\u001b[39m\u001b[38;5;241m1\u001b[39m)\n",
      "\u001b[1;31mTypeError\u001b[0m: DataFrame.drop() takes from 1 to 2 positional arguments but 3 positional arguments (and 1 keyword-only argument) were given"
     ]
    }
   ],
   "source": [
    "df2.drop('Score 1','Score 2',axis=1)"
   ]
  },
  {
   "cell_type": "code",
   "execution_count": null,
   "id": "b38d8297-1db2-41d1-9874-caadf15f5f74",
   "metadata": {},
   "outputs": [],
   "source": [
    "df2.drop('Score 1',axis=1)"
   ]
  },
  {
   "cell_type": "code",
   "execution_count": null,
   "id": "a489ec91-d88a-40aa-9105-8515e053167d",
   "metadata": {},
   "outputs": [],
   "source": [
    "df2.drop(columns=['Score 2','Score 1'],axis=1,inplace =True)"
   ]
  },
  {
   "cell_type": "code",
   "execution_count": null,
   "id": "72c92c2f-dbf8-460a-9861-cc9c48307e98",
   "metadata": {},
   "outputs": [],
   "source": [
    "df2"
   ]
  },
  {
   "cell_type": "code",
   "execution_count": null,
   "id": "5c23c1c4-e677-4ac4-9a56-8ed752d3024e",
   "metadata": {},
   "outputs": [],
   "source": [
    "df2[df2['Gender']=='f',['Score']>85]"
   ]
  },
  {
   "cell_type": "code",
   "execution_count": null,
   "id": "671fe0b5-223c-49fc-aa8a-58cf12f90360",
   "metadata": {},
   "outputs": [],
   "source": [
    "print(df2[(df2['Gender']=='f') & (df2['Score']>85)])"
   ]
  },
  {
   "cell_type": "code",
   "execution_count": null,
   "id": "b63e9fbc-94d5-4fff-a46f-b93927f60773",
   "metadata": {},
   "outputs": [],
   "source": [
    "print(df2[(df2['Gender']=='f') & (df2['Score']>85)])"
   ]
  },
  {
   "cell_type": "code",
   "execution_count": null,
   "id": "bdad7721-0e2b-48e6-8dcf-c59140b3b2f2",
   "metadata": {},
   "outputs": [],
   "source": [
    "df2"
   ]
  },
  {
   "cell_type": "code",
   "execution_count": null,
   "id": "8b4052b9-d133-4369-bb40-53e8e411ec81",
   "metadata": {},
   "outputs": [],
   "source": [
    "d=df2.query(\"'Gender==f'\"&\"'Age>22'\")"
   ]
  },
  {
   "cell_type": "code",
   "execution_count": null,
   "id": "e0d140e2-54d6-49fe-8099-60cf8ffe8320",
   "metadata": {},
   "outputs": [],
   "source": [
    "d"
   ]
  },
  {
   "cell_type": "code",
   "execution_count": null,
   "id": "57449b84-1ffd-43be-b2fa-2ce63f9b6422",
   "metadata": {},
   "outputs": [],
   "source": [
    "df2=df2.sort_values('Score',ascending=False)"
   ]
  },
  {
   "cell_type": "code",
   "execution_count": null,
   "id": "99f43b41-d1da-4bd7-b92c-ec76baa5feec",
   "metadata": {},
   "outputs": [],
   "source": [
    "df2"
   ]
  },
  {
   "cell_type": "code",
   "execution_count": null,
   "id": "621913d0-b51c-4fa1-ae7b-9064a33a1829",
   "metadata": {},
   "outputs": [],
   "source": [
    "df2"
   ]
  },
  {
   "cell_type": "code",
   "execution_count": null,
   "id": "1fb45aca-752d-444b-8427-ca7c70a5c547",
   "metadata": {},
   "outputs": [],
   "source": [
    "def assign_grade(Score):\n",
    "    if Score>=90:\n",
    "        return 'A'\n",
    "    elif Score>=80:\n",
    "        return 'B'\n",
    "    elif Score>=70:\n",
    "        return 'C'\n",
    "    elif Score<70:\n",
    "        return 'D'    \n"
   ]
  },
  {
   "cell_type": "code",
   "execution_count": null,
   "id": "cf3a9d46-e4b0-444f-96b8-fb6c41910fc8",
   "metadata": {},
   "outputs": [],
   "source": [
    "df2['Grade']=df2['Score'].apply(assign_grade)"
   ]
  },
  {
   "cell_type": "code",
   "execution_count": null,
   "id": "802debf3-1e2c-4d7e-8a08-fe63a4cd69a8",
   "metadata": {},
   "outputs": [],
   "source": [
    "print(df2)"
   ]
  },
  {
   "cell_type": "code",
   "execution_count": null,
   "id": "45c682cc-0b04-4fca-a161-15382df1fa16",
   "metadata": {},
   "outputs": [],
   "source": [
    "df2=pd.DataFrame({'Month':['Jan','Feb','Mar','Jan','Feb','Mar'],'Product':['A','A','A','B','B','B'],'Sales':[150,200,250,300,400,500]})"
   ]
  },
  {
   "cell_type": "code",
   "execution_count": null,
   "id": "dbe1e017-a0dc-44ac-ad7f-c36d89e33f0e",
   "metadata": {},
   "outputs": [],
   "source": [
    "total_sales_per_product = df2.groupby('Product')['Sales'].sum().reset_index()\n",
    "total_sales_per_product.rename(columns={'Sales': 'Total_Sales'}, inplace=True)"
   ]
  },
  {
   "cell_type": "code",
   "execution_count": null,
   "id": "618a663d-bbb3-4418-b1f4-8e0fa8632862",
   "metadata": {},
   "outputs": [],
   "source": [
    "print(total_sales_per_product)"
   ]
  },
  {
   "cell_type": "code",
   "execution_count": null,
   "id": "be781741-4d23-4c32-8b62-f721378276bc",
   "metadata": {},
   "outputs": [],
   "source": [
    "idx=df2.groupby('Product')['Sales'].idxmax()"
   ]
  },
  {
   "cell_type": "code",
   "execution_count": null,
   "id": "8809fe68-24d8-4931-be83-235dd4a70375",
   "metadata": {},
   "outputs": [],
   "source": [
    "highest_sales_month=df2.loc[idx]"
   ]
  },
  {
   "cell_type": "code",
   "execution_count": null,
   "id": "5a1f4284-7603-40d4-bf79-4a7e3aab2e67",
   "metadata": {},
   "outputs": [],
   "source": [
    "print(highest_sales_month[['Product', 'Month', 'Sales']])"
   ]
  },
  {
   "cell_type": "code",
   "execution_count": null,
   "id": "c6fcf0fb-8931-4e94-9c08-56b1be52c25a",
   "metadata": {},
   "outputs": [],
   "source": [
    "df2=df2.merge(total_sales_per_product, on='Product')\n",
    "df2['Sales_Percentage']=(df2['Sales']/df2['Total_Sales'])*100"
   ]
  },
  {
   "cell_type": "code",
   "execution_count": null,
   "id": "1d9461cc-edd1-4df3-87bc-f97bb637a017",
   "metadata": {},
   "outputs": [],
   "source": []
  },
  {
   "cell_type": "code",
   "execution_count": null,
   "id": "eae29e06-ae46-4a0a-99ec-749a97278610",
   "metadata": {},
   "outputs": [],
   "source": []
  },
  {
   "cell_type": "code",
   "execution_count": null,
   "id": "4d6478f5-f1e9-4536-bbf1-314b889f9f9e",
   "metadata": {},
   "outputs": [],
   "source": [
    "df2"
   ]
  },
  {
   "cell_type": "code",
   "execution_count": 249,
   "id": "b245029c-1c6b-4948-a906-2d35b6b6109f",
   "metadata": {},
   "outputs": [],
   "source": [
    "df5=pd.DataFrame({'Name':['John','Doe','Jane','Anna','Smith'],'Department':['HR','Finance',None,'IT','HR'],'Salary':[50000,60000,55000,None,58000]})"
   ]
  },
  {
   "cell_type": "code",
   "execution_count": 251,
   "id": "30d9525a-ab3a-42ea-b97f-93e191175318",
   "metadata": {},
   "outputs": [],
   "source": [
    "missing_values_count=df5.isnull().sum()"
   ]
  },
  {
   "cell_type": "code",
   "execution_count": 253,
   "id": "4f96b084-d0c9-4e33-a1a4-b4ec0c299f93",
   "metadata": {},
   "outputs": [
    {
     "name": "stdout",
     "output_type": "stream",
     "text": [
      "Name          0\n",
      "Department    1\n",
      "Salary        1\n",
      "dtype: int64\n"
     ]
    }
   ],
   "source": [
    "print(missing_values_count)"
   ]
  },
  {
   "cell_type": "code",
   "execution_count": 255,
   "id": "93c852cb-48ce-4754-86b1-94616425b9a9",
   "metadata": {},
   "outputs": [
    {
     "name": "stderr",
     "output_type": "stream",
     "text": [
      "C:\\Users\\HDC0422083\\AppData\\Local\\Temp\\ipykernel_10276\\366872733.py:2: FutureWarning: A value is trying to be set on a copy of a DataFrame or Series through chained assignment using an inplace method.\n",
      "The behavior will change in pandas 3.0. This inplace method will never work because the intermediate object on which we are setting values always behaves as a copy.\n",
      "\n",
      "For example, when doing 'df[col].method(value, inplace=True)', try using 'df.method({col: value}, inplace=True)' or df[col] = df[col].method(value) instead, to perform the operation inplace on the original object.\n",
      "\n",
      "\n",
      "  df5['Department'].fillna(department_mode, inplace=True)\n"
     ]
    }
   ],
   "source": [
    "department_mode=df5['Department'].mode()[0]\n",
    "df5['Department'].fillna(department_mode, inplace=True)"
   ]
  },
  {
   "cell_type": "code",
   "execution_count": 257,
   "id": "54addc20-5512-4427-8859-5df1eb478db5",
   "metadata": {},
   "outputs": [
    {
     "name": "stdout",
     "output_type": "stream",
     "text": [
      "    Name Department   Salary\n",
      "0   John         HR  50000.0\n",
      "1    Doe    Finance  60000.0\n",
      "2   Jane         HR  55000.0\n",
      "3   Anna         IT      NaN\n",
      "4  Smith         HR  58000.0\n"
     ]
    }
   ],
   "source": [
    "print(df5)"
   ]
  },
  {
   "cell_type": "code",
   "execution_count": 261,
   "id": "f74174f8-5712-4596-a2cc-8f502fefe820",
   "metadata": {},
   "outputs": [
    {
     "name": "stderr",
     "output_type": "stream",
     "text": [
      "C:\\Users\\HDC0422083\\AppData\\Local\\Temp\\ipykernel_10276\\1753570443.py:2: FutureWarning: A value is trying to be set on a copy of a DataFrame or Series through chained assignment using an inplace method.\n",
      "The behavior will change in pandas 3.0. This inplace method will never work because the intermediate object on which we are setting values always behaves as a copy.\n",
      "\n",
      "For example, when doing 'df[col].method(value, inplace=True)', try using 'df.method({col: value}, inplace=True)' or df[col] = df[col].method(value) instead, to perform the operation inplace on the original object.\n",
      "\n",
      "\n",
      "  df5['Salary'].fillna(salary_mean, inplace=True)\n"
     ]
    }
   ],
   "source": [
    "salary_mean=df5['Salary'].mean()\n",
    "df5['Salary'].fillna(salary_mean, inplace=True)"
   ]
  },
  {
   "cell_type": "code",
   "execution_count": 263,
   "id": "da299e9a-4244-4bc7-a466-836f055698c6",
   "metadata": {},
   "outputs": [
    {
     "name": "stdout",
     "output_type": "stream",
     "text": [
      "    Name Department   Salary\n",
      "0   John         HR  50000.0\n",
      "1    Doe    Finance  60000.0\n",
      "2   Jane         HR  55000.0\n",
      "3   Anna         IT  55750.0\n",
      "4  Smith         HR  58000.0\n"
     ]
    }
   ],
   "source": [
    "print(df5)"
   ]
  },
  {
   "cell_type": "code",
   "execution_count": 265,
   "id": "8a0a55bf-12bd-40b4-8563-225d9162e1bb",
   "metadata": {},
   "outputs": [],
   "source": [
    "df5.dropna(inplace=True)"
   ]
  },
  {
   "cell_type": "code",
   "execution_count": 267,
   "id": "7c7aa819-6b49-4e61-badd-7dbeaff05fc9",
   "metadata": {},
   "outputs": [
    {
     "name": "stdout",
     "output_type": "stream",
     "text": [
      "    Name Department   Salary\n",
      "0   John         HR  50000.0\n",
      "1    Doe    Finance  60000.0\n",
      "2   Jane         HR  55000.0\n",
      "3   Anna         IT  55750.0\n",
      "4  Smith         HR  58000.0\n"
     ]
    }
   ],
   "source": [
    "print(df5)"
   ]
  },
  {
   "cell_type": "code",
   "execution_count": 271,
   "id": "68b54377-f8c3-4b64-9421-1d1722334f92",
   "metadata": {},
   "outputs": [],
   "source": [
    "temperature=pd.Series([23, 21, 20, 25, 27, 30, 28, 22, 24, 26])"
   ]
  },
  {
   "cell_type": "code",
   "execution_count": 273,
   "id": "a9bff6f9-0a65-4b18-a346-b5482ad02a92",
   "metadata": {},
   "outputs": [],
   "source": [
    "mean=temperature.mean()\n",
    "median=temperature.median()\n",
    "std=temperature.std()\n"
   ]
  },
  {
   "cell_type": "code",
   "execution_count": 275,
   "id": "3b020517-c026-4df7-a2be-ad8cd3f3d511",
   "metadata": {},
   "outputs": [
    {
     "name": "stdout",
     "output_type": "stream",
     "text": [
      "24.6\n"
     ]
    }
   ],
   "source": [
    "print(mean)"
   ]
  },
  {
   "cell_type": "code",
   "execution_count": 277,
   "id": "bae704d2-9f0f-43fc-a11f-c78979510cbd",
   "metadata": {},
   "outputs": [
    {
     "name": "stdout",
     "output_type": "stream",
     "text": [
      "24.5\n"
     ]
    }
   ],
   "source": [
    "print(median)"
   ]
  },
  {
   "cell_type": "code",
   "execution_count": 279,
   "id": "67fdd7f6-1725-4026-97ad-7f04ced4e691",
   "metadata": {},
   "outputs": [
    {
     "name": "stdout",
     "output_type": "stream",
     "text": [
      "3.204163957519444\n"
     ]
    }
   ],
   "source": [
    "print(std)"
   ]
  },
  {
   "cell_type": "code",
   "execution_count": 291,
   "id": "26d53e85-f141-4547-9aff-54c35e6a1cc1",
   "metadata": {},
   "outputs": [],
   "source": [
    "temp=(temperature - 32)*5/9"
   ]
  },
  {
   "cell_type": "raw",
   "id": "eb7d1832-41b4-4471-8ee0-2c2eac2b4ba5",
   "metadata": {},
   "source": [
    "print(temp)"
   ]
  },
  {
   "cell_type": "code",
   "execution_count": 294,
   "id": "b54ba586-bdca-4400-806d-5c528c6b0f77",
   "metadata": {},
   "outputs": [],
   "source": [
    "index_max = temperature.idxmax()\n",
    "index_min = temperature.idxmin()"
   ]
  },
  {
   "cell_type": "code",
   "execution_count": 298,
   "id": "faaa7b54-680c-4d50-b4ae-8cee31dbdf2f",
   "metadata": {},
   "outputs": [
    {
     "name": "stdout",
     "output_type": "stream",
     "text": [
      "Index of max: 5\n"
     ]
    }
   ],
   "source": [
    "print(f\"Index of max: {index_max}\")"
   ]
  },
  {
   "cell_type": "code",
   "execution_count": 302,
   "id": "b7d17eee-2e24-411c-9ef5-0ab386247e52",
   "metadata": {},
   "outputs": [
    {
     "name": "stdout",
     "output_type": "stream",
     "text": [
      "Index of min: 2\n"
     ]
    }
   ],
   "source": [
    "print(f\"Index of min: {index_min}\")"
   ]
  },
  {
   "cell_type": "code",
   "execution_count": 304,
   "id": "bcca6ea9-b223-4671-831b-d14e5689cd47",
   "metadata": {},
   "outputs": [],
   "source": [
    "sort_ascen=temperature.sort_values()"
   ]
  },
  {
   "cell_type": "code",
   "execution_count": 306,
   "id": "8d17a7ad-4819-47d6-a30d-94a196c920c5",
   "metadata": {},
   "outputs": [],
   "source": [
    "sort_desce=temperature.sort_values(ascending=False)"
   ]
  },
  {
   "cell_type": "code",
   "execution_count": 308,
   "id": "afe7474a-c210-4d39-9a70-8b813b3040a7",
   "metadata": {},
   "outputs": [
    {
     "name": "stdout",
     "output_type": "stream",
     "text": [
      "2    20\n",
      "1    21\n",
      "7    22\n",
      "0    23\n",
      "8    24\n",
      "3    25\n",
      "9    26\n",
      "4    27\n",
      "6    28\n",
      "5    30\n",
      "dtype: int64\n"
     ]
    }
   ],
   "source": [
    "print(sort_ascen)"
   ]
  },
  {
   "cell_type": "code",
   "execution_count": 310,
   "id": "f27965e0-8b17-4cd5-b61a-59e3226bc118",
   "metadata": {},
   "outputs": [
    {
     "name": "stdout",
     "output_type": "stream",
     "text": [
      "5    30\n",
      "6    28\n",
      "4    27\n",
      "9    26\n",
      "3    25\n",
      "8    24\n",
      "0    23\n",
      "7    22\n",
      "1    21\n",
      "2    20\n",
      "dtype: int64\n"
     ]
    }
   ],
   "source": [
    "print(sort_desce)"
   ]
  },
  {
   "cell_type": "code",
   "execution_count": 1,
   "id": "feec2f9e-3ea0-493e-a368-42c851aa94b3",
   "metadata": {},
   "outputs": [],
   "source": [
    "import pandas as pd\n"
   ]
  },
  {
   "cell_type": "code",
   "execution_count": 3,
   "id": "d35a5d38-374e-4f5a-8aa1-1de6162db936",
   "metadata": {},
   "outputs": [],
   "source": [
    "cust = pd.DataFrame({\n",
    "    'CustomerID': [101, 102, 103, 104],\n",
    "    'Name': ['Alice', 'Bob', 'Charlie', 'David'],\n",
    "    'Location': ['New York', 'Los Angeles', 'Chicago', 'Houston']\n",
    "})"
   ]
  },
  {
   "cell_type": "code",
   "execution_count": 5,
   "id": "92df7012-c955-49aa-960e-704677c434a1",
   "metadata": {},
   "outputs": [],
   "source": [
    "orders = pd.DataFrame({\n",
    "    'OrderID': [1, 2, 3, 4, 5],\n",
    "    'CustomerID': [101, 102, 101, 103, 104],\n",
    "    'OrderAmount': [250, 150, 300, 200, 100]\n",
    "})"
   ]
  },
  {
   "cell_type": "code",
   "execution_count": 7,
   "id": "9e22d81a-8445-4020-8cce-321ac2ec740e",
   "metadata": {},
   "outputs": [],
   "source": [
    "merg=pd.merge(orders, cust,on='CustomerID')"
   ]
  },
  {
   "cell_type": "code",
   "execution_count": 9,
   "id": "e709776a-9daf-4376-bfe9-e24d1a1729d0",
   "metadata": {},
   "outputs": [
    {
     "name": "stdout",
     "output_type": "stream",
     "text": [
      "   OrderID  CustomerID  OrderAmount     Name     Location\n",
      "0        1         101          250    Alice     New York\n",
      "1        2         102          150      Bob  Los Angeles\n",
      "2        3         101          300    Alice     New York\n",
      "3        4         103          200  Charlie      Chicago\n",
      "4        5         104          100    David      Houston\n"
     ]
    }
   ],
   "source": [
    "print(merg)"
   ]
  },
  {
   "cell_type": "code",
   "execution_count": null,
   "id": "0683282b-328b-43c7-8c6a-989a249f9be5",
   "metadata": {},
   "outputs": [],
   "source": [
    "order_count=merg"
   ]
  }
 ],
 "metadata": {
  "kernelspec": {
   "display_name": "Python 3 (ipykernel)",
   "language": "python",
   "name": "python3"
  },
  "language_info": {
   "codemirror_mode": {
    "name": "ipython",
    "version": 3
   },
   "file_extension": ".py",
   "mimetype": "text/x-python",
   "name": "python",
   "nbconvert_exporter": "python",
   "pygments_lexer": "ipython3",
   "version": "3.12.4"
  }
 },
 "nbformat": 4,
 "nbformat_minor": 5
}
